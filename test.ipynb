{
 "cells": [
  {
   "cell_type": "code",
   "execution_count": 1,
   "metadata": {},
   "outputs": [],
   "source": [
    "from pathlib import Path\n",
    "import pandas as pd"
   ]
  },
  {
   "cell_type": "code",
   "execution_count": 2,
   "metadata": {},
   "outputs": [],
   "source": [
    "from langchain.embeddings import OpenAIEmbeddings\n",
    "from langchain.prompts import PromptTemplate\n",
    "from langchain.schema import HumanMessage, SystemMessage, AIMessage\n",
    "from langchain.vectorstores import Chroma\n",
    "\n",
    "from langchain_openai import ChatOpenAI\n",
    "from langchain_anthropic import ChatAnthropic\n",
    "\n",
    "import os\n",
    "\n",
    "os.environ['OPENAI_API_KEY'] = 'sk-proj-3pSCJqVVn8lRccIMTfXFT3BlbkFJvB0pdZtI3qOHc4EmWKKV'\n",
    "\n",
    "\n",
    "def initialize_model(model_name):\n",
    "    if model_name == 'gpt-4o-mini':\n",
    "        return ChatOpenAI(model=model_name)\n",
    "    elif model_name == 'claude':\n",
    "        return ChatAnthropic(model=model_name)\n",
    "    else:\n",
    "        raise ValueError(\"Unsupported model name. Choose either 'gpt-4o-mini' or 'claude'.\")\n"
   ]
  },
  {
   "cell_type": "code",
   "execution_count": 7,
   "metadata": {},
   "outputs": [],
   "source": [
    "def complete_todo_list(input_text, model_name='gpt-4o-mini'):\n",
    "    # モデルの初期化\n",
    "    model = initialize_model(model_name)\n",
    "    # ベクトルデータベースの読み込み\n",
    "    database = Chroma(\n",
    "            persist_directory=\"./.data\", \n",
    "            embedding_function=OpenAIEmbeddings(model=\"text-embedding-ada-002\")\n",
    "        )\n",
    "    # 文字列を1行ずつ分割\n",
    "    lines = input_text.split('\\n')\n",
    "    # 結果を格納する変数\n",
    "    concatenated_text = \"\"\n",
    "    for line in lines:\n",
    "        print(line)\n",
    "        docs = database.similarity_search(line)\n",
    "        print(docs)\n",
    "        # プロンプトテンプレートの定義\n",
    "        prompt_template = \"タスクに業務マニュアルに沿った情報を補完せよ。\\\n",
    "                        補完時の注意事項 \\\n",
    "                        1. 「タスク名(氏名)」の下の行に、「※補足：」から始まる形で業務マニュアルに沿った補足を追記すること。\\\n",
    "                        :\\n\\n{line} \\\n",
    "                        \\n\\n関連業務マニュアル:{context}\"\n",
    "        # メッセージの作成\n",
    "        messages = [\n",
    "            SystemMessage(content=\"あなたはプロジェクトリーダーです。業務マニュアルに沿った補足情報を追加して、部下にわかりやすくタスクを振ることができます。\"),\n",
    "            HumanMessage(content=prompt_template.format(line=line, context=docs[0].content))\n",
    "        ]\n",
    "        # 生成AIモデルから返事を取得\n",
    "        completed_todo = model.invoke(messages)\n",
    "        concatenated_text += completed_todo.choices[0].text + \"\\n\"\n",
    "    return concatenated_text"
   ]
  },
  {
   "cell_type": "code",
   "execution_count": 8,
   "metadata": {},
   "outputs": [
    {
     "name": "stdout",
     "output_type": "stream",
     "text": [
      "太郎さんに議事録を作成してもらう\n",
      "[]\n"
     ]
    },
    {
     "ename": "IndexError",
     "evalue": "list index out of range",
     "output_type": "error",
     "traceback": [
      "\u001b[1;31m---------------------------------------------------------------------------\u001b[0m",
      "\u001b[1;31mIndexError\u001b[0m                                Traceback (most recent call last)",
      "Cell \u001b[1;32mIn[8], line 2\u001b[0m\n\u001b[0;32m      1\u001b[0m input_text \u001b[38;5;241m=\u001b[39m \u001b[38;5;124m\"\u001b[39m\u001b[38;5;124m太郎さんに議事録を作成してもらう\u001b[39m\u001b[38;5;130;01m\\n\u001b[39;00m\u001b[38;5;124m次回の会議資料を作成する\u001b[39m\u001b[38;5;130;01m\\n\u001b[39;00m\u001b[38;5;124m\"\u001b[39m\n\u001b[1;32m----> 2\u001b[0m completed_text \u001b[38;5;241m=\u001b[39m \u001b[43mcomplete_todo_list\u001b[49m\u001b[43m(\u001b[49m\u001b[43minput_text\u001b[49m\u001b[43m)\u001b[49m\n",
      "Cell \u001b[1;32mIn[7], line 26\u001b[0m, in \u001b[0;36mcomplete_todo_list\u001b[1;34m(input_text, model_name)\u001b[0m\n\u001b[0;32m     18\u001b[0m prompt_template \u001b[38;5;241m=\u001b[39m \u001b[38;5;124m\"\u001b[39m\u001b[38;5;124mタスクに業務マニュアルに沿った情報を補完せよ。\u001b[39m\u001b[38;5;130;01m\\\u001b[39;00m\n\u001b[0;32m     19\u001b[0m \u001b[38;5;124m                補完時の注意事項 \u001b[39m\u001b[38;5;130;01m\\\u001b[39;00m\n\u001b[0;32m     20\u001b[0m \u001b[38;5;124m                1. 「タスク名(氏名)」の下の行に、「※補足：」から始まる形で業務マニュアルに沿った補足を追記すること。\u001b[39m\u001b[38;5;130;01m\\\u001b[39;00m\n\u001b[0;32m     21\u001b[0m \u001b[38;5;124m                :\u001b[39m\u001b[38;5;130;01m\\n\u001b[39;00m\u001b[38;5;130;01m\\n\u001b[39;00m\u001b[38;5;132;01m{line}\u001b[39;00m\u001b[38;5;124m \u001b[39m\u001b[38;5;130;01m\\\u001b[39;00m\n\u001b[0;32m     22\u001b[0m \u001b[38;5;124m                \u001b[39m\u001b[38;5;130;01m\\n\u001b[39;00m\u001b[38;5;130;01m\\n\u001b[39;00m\u001b[38;5;124m関連業務マニュアル:\u001b[39m\u001b[38;5;132;01m{context}\u001b[39;00m\u001b[38;5;124m\"\u001b[39m\n\u001b[0;32m     23\u001b[0m \u001b[38;5;66;03m# メッセージの作成\u001b[39;00m\n\u001b[0;32m     24\u001b[0m messages \u001b[38;5;241m=\u001b[39m [\n\u001b[0;32m     25\u001b[0m     SystemMessage(content\u001b[38;5;241m=\u001b[39m\u001b[38;5;124m\"\u001b[39m\u001b[38;5;124mあなたはプロジェクトリーダーです。業務マニュアルに沿った補足情報を追加して、部下にわかりやすくタスクを振ることができます。\u001b[39m\u001b[38;5;124m\"\u001b[39m),\n\u001b[1;32m---> 26\u001b[0m     HumanMessage(content\u001b[38;5;241m=\u001b[39mprompt_template\u001b[38;5;241m.\u001b[39mformat(line\u001b[38;5;241m=\u001b[39mline, context\u001b[38;5;241m=\u001b[39m\u001b[43mdocs\u001b[49m\u001b[43m[\u001b[49m\u001b[38;5;241;43m0\u001b[39;49m\u001b[43m]\u001b[49m\u001b[38;5;241m.\u001b[39mcontent))\n\u001b[0;32m     27\u001b[0m ]\n\u001b[0;32m     28\u001b[0m \u001b[38;5;66;03m# 生成AIモデルから返事を取得\u001b[39;00m\n\u001b[0;32m     29\u001b[0m completed_todo \u001b[38;5;241m=\u001b[39m model\u001b[38;5;241m.\u001b[39minvoke(messages)\n",
      "\u001b[1;31mIndexError\u001b[0m: list index out of range"
     ]
    }
   ],
   "source": [
    "input_text = \"太郎さんに議事録を作成してもらう\\n次回の会議資料を作成する\\n\"\n",
    "completed_text = complete_todo_list(input_text)"
   ]
  }
 ],
 "metadata": {
  "kernelspec": {
   "display_name": "Python 3",
   "language": "python",
   "name": "python3"
  },
  "language_info": {
   "codemirror_mode": {
    "name": "ipython",
    "version": 3
   },
   "file_extension": ".py",
   "mimetype": "text/x-python",
   "name": "python",
   "nbconvert_exporter": "python",
   "pygments_lexer": "ipython3",
   "version": "3.11.5"
  }
 },
 "nbformat": 4,
 "nbformat_minor": 2
}
